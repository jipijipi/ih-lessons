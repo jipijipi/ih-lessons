{
 "cells": [
  {
   "cell_type": "markdown",
   "id": "174d615e",
   "metadata": {},
   "source": [
    "\n",
    "# Metrics for Evaluating Unsupervised Learning Models\n",
    "\n",
    "Evaluating unsupervised learning models, such as clustering algorithms like KMeans and HDBSCAN, is crucial to determine the quality of the clusters formed. Unlike supervised learning, where we have ground truth labels to compare against, unsupervised learning requires different metrics to assess the performance.\n",
    "\n",
    "## Common Metrics\n",
    "\n",
    "1. **Silhouette Score**\n",
    "2. **Calinski-Harabasz Index**\n",
    "3. **Davies-Bouldin Index**\n",
    "\n",
    "We will explain each metric and provide examples of how to compute them using Python.\n"
   ]
  },
  {
   "cell_type": "markdown",
   "id": "e02ebcba",
   "metadata": {},
   "source": [
    "## Silhouette Score\n",
    "\n",
    "The Silhouette Score measures how similar an object is to its own cluster compared to other clusters. The score ranges from -1 to 1, where a high value indicates that the object is well matched to its own cluster and poorly matched to neighboring clusters.\n",
    "\n",
    "The Silhouette Score for a single sample is defined as:\n",
    "$$\n",
    " s = \\frac{b - a}{\\max(a, b)} \n",
    "$$\n",
    "\n",
    "where:\n",
    "- \\( a \\) is the mean distance between a sample and all other points in the same cluster.\n",
    "- \\( b \\) is the mean distance between a sample and all other points in the next nearest cluster.\n",
    "\n",
    "### Example\n"
   ]
  },
  {
   "cell_type": "code",
   "execution_count": 6,
   "id": "93675398",
   "metadata": {},
   "outputs": [
    {
     "name": "stdout",
     "output_type": "stream",
     "text": [
      "Silhouette Score: 0.45994823920518635\n"
     ]
    },
    {
     "name": "stderr",
     "output_type": "stream",
     "text": [
      "/Users/aleksanderdasilvaboski/anaconda3/lib/python3.11/site-packages/sklearn/cluster/_kmeans.py:1412: FutureWarning: The default value of `n_init` will change from 10 to 'auto' in 1.4. Set the value of `n_init` explicitly to suppress the warning\n",
      "  super()._check_params_vs_input(X, default_n_init=10)\n"
     ]
    }
   ],
   "source": [
    "from sklearn.datasets import load_iris\n",
    "from sklearn.preprocessing import StandardScaler\n",
    "from sklearn.cluster import KMeans\n",
    "from sklearn.metrics import silhouette_score\n",
    "\n",
    "# Load the data\n",
    "data = load_iris()\n",
    "X = data.data\n",
    "\n",
    "# Standardize the data\n",
    "scaler = StandardScaler()\n",
    "X_std = scaler.fit_transform(X)\n",
    "\n",
    "# Apply KMeans clustering\n",
    "kmeans = KMeans(n_clusters=3, random_state=42)\n",
    "labels = kmeans.fit_predict(X_std)\n",
    "\n",
    "# Compute the Silhouette Score\n",
    "sil_score = silhouette_score(X_std, labels)\n",
    "print(f\"Silhouette Score: {sil_score}\")\n",
    "\n"
   ]
  },
  {
   "cell_type": "markdown",
   "id": "c420d88b",
   "metadata": {},
   "source": [
    "\n",
    "## Calinski-Harabasz Index\n",
    "\n",
    "The Calinski-Harabasz Index, also known as the Variance Ratio Criterion, is the ratio of the sum of between-cluster dispersion and inter-cluster dispersion for all clusters. A higher score indicates better-defined clusters.\n",
    "\n",
    "### Example\n"
   ]
  },
  {
   "cell_type": "code",
   "execution_count": 7,
   "id": "a265836f",
   "metadata": {},
   "outputs": [
    {
     "name": "stdout",
     "output_type": "stream",
     "text": [
      "Calinski-Harabasz Index: 241.90440170183157\n"
     ]
    }
   ],
   "source": [
    "from sklearn.metrics import calinski_harabasz_score\n",
    "\n",
    "# Compute the Calinski-Harabasz Index\n",
    "ch_score = calinski_harabasz_score(X_std, labels)\n",
    "print(f\"Calinski-Harabasz Index: {ch_score}\")\n",
    "\n"
   ]
  },
  {
   "cell_type": "markdown",
   "id": "a1a9f33c",
   "metadata": {},
   "source": [
    "\n",
    "## Davies-Bouldin Index\n",
    "\n",
    "The Davies-Bouldin Index is defined as the average similarity ratio of each cluster with its most similar cluster. A lower score indicates better clustering.\n",
    "\n",
    "### Example\n"
   ]
  },
  {
   "cell_type": "code",
   "execution_count": 5,
   "id": "d6429fbf",
   "metadata": {},
   "outputs": [
    {
     "name": "stdout",
     "output_type": "stream",
     "text": [
      "Davies-Bouldin Index: 0.8335949464754338\n"
     ]
    }
   ],
   "source": [
    "from sklearn.metrics import davies_bouldin_score\n",
    "\n",
    "# Compute the Davies-Bouldin Index\n",
    "db_score = davies_bouldin_score(X_std, labels)\n",
    "print(f\"Davies-Bouldin Index: {db_score}\")\n",
    "\n"
   ]
  }
 ],
 "metadata": {
  "kernelspec": {
   "display_name": "Python 3 (ipykernel)",
   "language": "python",
   "name": "python3"
  },
  "language_info": {
   "codemirror_mode": {
    "name": "ipython",
    "version": 3
   },
   "file_extension": ".py",
   "mimetype": "text/x-python",
   "name": "python",
   "nbconvert_exporter": "python",
   "pygments_lexer": "ipython3",
   "version": "3.11.5"
  }
 },
 "nbformat": 4,
 "nbformat_minor": 5
}
