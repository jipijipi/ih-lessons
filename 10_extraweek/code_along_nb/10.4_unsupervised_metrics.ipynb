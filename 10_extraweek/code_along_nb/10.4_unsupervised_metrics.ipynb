{
 "cells": [
  {
   "cell_type": "markdown",
   "id": "174d615e",
   "metadata": {},
   "source": [
    "\n",
    "# Metrics for Evaluating Unsupervised Learning Models\n",
    "\n",
    "Evaluating unsupervised learning models, such as clustering algorithms like KMeans and HDBSCAN, is crucial to determine the quality of the clusters formed. Unlike supervised learning, where we have ground truth labels to compare against, unsupervised learning requires different metrics to assess the performance.\n",
    "\n",
    "## Common Metrics\n",
    "\n",
    "1. **Silhouette Score**\n",
    "2. **Calinski-Harabasz Index**\n",
    "3. **Davies-Bouldin Index**\n",
    "\n",
    "We will explain each metric and provide examples of how to compute them using Python.\n"
   ]
  },
  {
   "cell_type": "markdown",
   "id": "e02ebcba",
   "metadata": {},
   "source": [
    "## Silhouette Score\n",
    "\n",
    "The Silhouette Score measures how similar an object is to its own cluster compared to other clusters. The score ranges from -1 to 1, where a high value indicates that the object is well matched to its own cluster and poorly matched to neighboring clusters.\n",
    "\n",
    "The Silhouette Score for a single sample is defined as:\n",
    "$$\n",
    " s = \\frac{b - a}{\\max(a, b)} \n",
    "$$\n",
    "\n",
    "where:\n",
    "- \\( a \\) is the mean distance between a sample and all other points in the same cluster.\n",
    "- \\( b \\) is the mean distance between a sample and all other points in the next nearest cluster.\n",
    "\n",
    "### Example\n"
   ]
  },
  {
   "cell_type": "code",
   "execution_count": null,
   "id": "93675398",
   "metadata": {},
   "outputs": [],
   "source": []
  },
  {
   "cell_type": "markdown",
   "id": "c420d88b",
   "metadata": {},
   "source": [
    "\n",
    "## Calinski-Harabasz Index\n",
    "\n",
    "The Calinski-Harabasz Index, also known as the Variance Ratio Criterion, is the ratio of the sum of between-cluster dispersion and inter-cluster dispersion for all clusters. A higher score indicates better-defined clusters.\n",
    "\n",
    "### Example\n"
   ]
  },
  {
   "cell_type": "code",
   "execution_count": null,
   "id": "a265836f",
   "metadata": {},
   "outputs": [],
   "source": [
    "\n"
   ]
  },
  {
   "cell_type": "markdown",
   "id": "a1a9f33c",
   "metadata": {},
   "source": [
    "\n",
    "## Davies-Bouldin Index\n",
    "\n",
    "The Davies-Bouldin Index is defined as the average similarity ratio of each cluster with its most similar cluster. A lower score indicates better clustering.\n",
    "\n",
    "### Example\n"
   ]
  },
  {
   "cell_type": "code",
   "execution_count": null,
   "id": "d6429fbf",
   "metadata": {},
   "outputs": [],
   "source": [
    "\n"
   ]
  }
 ],
 "metadata": {
  "kernelspec": {
   "display_name": "Python 3 (ipykernel)",
   "language": "python",
   "name": "python3"
  },
  "language_info": {
   "codemirror_mode": {
    "name": "ipython",
    "version": 3
   },
   "file_extension": ".py",
   "mimetype": "text/x-python",
   "name": "python",
   "nbconvert_exporter": "python",
   "pygments_lexer": "ipython3",
   "version": "3.11.7"
  }
 },
 "nbformat": 4,
 "nbformat_minor": 5
}
