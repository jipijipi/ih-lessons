{
 "cells": [
  {
   "cell_type": "markdown",
   "id": "51e59ee7",
   "metadata": {},
   "source": [
    "\n",
    "# Introduction to Streamlit\n",
    "\n",
    "Streamlit is an open-source app framework for Machine Learning and Data Science projects. It allows you to build and deploy powerful data apps with minimal effort.\n",
    "\n",
    "In this notebook we will introduce the basics of Streamlit that you will be able to use in a script of your own!\n",
    "\n",
    "## Installation\n",
    "\n",
    "To install Streamlit, use pip:\n",
    "\n",
    "```python\n",
    "pip install streamlit\n",
    "```\n",
    "\n",
    "## Running Streamlit\n",
    "\n",
    "To run a Streamlit app, navigate to the directory containing your script and run:\n",
    "\n",
    "```python\n",
    "streamlit run your_script.py\n",
    "```\n"
   ]
  },
  {
   "cell_type": "markdown",
   "id": "fee6a54c",
   "metadata": {},
   "source": [
    "\n",
    "## Basic Example\n",
    "\n",
    "Here's a simple example to get you started with Streamlit.\n",
    "\n",
    "```python\n",
    "import streamlit as st\n",
    "\n",
    "st.title(\"Hello, Streamlit!\")\n",
    "st.write(\"This is my first streamlit test!\")\n",
    "```\n"
   ]
  },
  {
   "cell_type": "markdown",
   "id": "37a6b59b",
   "metadata": {},
   "source": [
    "\n",
    "## Adding Widgets\n",
    "\n",
    "Streamlit provides a variety of widgets to interact with your app.\n",
    "\n",
    "```python\n",
    "import streamlit as st\n",
    "\n",
    "st.title(\"Widget Example\")\n",
    "\n",
    "# Slider\n",
    "slider_val = st.slider(\"Select a value\", 0, 100)\n",
    "st.write(\"Slider Value:\", slider_val)\n",
    "\n",
    "# Text Input\n",
    "text_input = st.text_input(\"Enter some text\")\n",
    "st.write(\"Text Input:\", text_input)\n",
    "```\n"
   ]
  },
  {
   "cell_type": "markdown",
   "id": "5bdfaba8",
   "metadata": {},
   "source": [
    "\n",
    "## Displaying DataFrames\n",
    "\n",
    "You can easily display dataframes with Streamlit.\n",
    "\n",
    "```python\n",
    "import streamlit as st\n",
    "import pandas as pd\n",
    "\n",
    "st.title(\"DataFrame Example\")\n",
    "\n",
    "df = pd.DataFrame({\n",
    "    'Column 1': [1, 2, 3, 4],\n",
    "    'Column 2': [10, 20, 30, 40]\n",
    "})\n",
    "\n",
    "st.write(\"Here's a DataFrame:\")\n",
    "st.write(df)\n",
    "```\n"
   ]
  },
  {
   "cell_type": "markdown",
   "id": "50d42588",
   "metadata": {},
   "source": [
    "\n",
    "## Plotting\n",
    "\n",
    "Streamlit integrates well with popular plotting libraries, for example like Matplotlib.\n",
    "\n",
    "```python\n",
    "import streamlit as st\n",
    "import matplotlib.pyplot as plt\n",
    "import numpy as np\n",
    "\n",
    "st.title(\"Plotting Example\")\n",
    "\n",
    "# Matplotlib Plot\n",
    "x = np.linspace(0, 10, 100)\n",
    "y = np.sin(x)\n",
    "\n",
    "fig, ax = plt.subplots()\n",
    "ax.plot(x, y)\n",
    "\n",
    "st.pyplot(fig)\n",
    "```\n"
   ]
  },
  {
   "cell_type": "markdown",
   "id": "fa3bd33d",
   "metadata": {},
   "source": [
    "\n",
    "## Advanced Features\n",
    "\n",
    "Streamlit also supports advanced features like interactivity and state management.\n",
    "\n",
    "### Interactivity with Widgets\n",
    "\n",
    "```python\n",
    "import streamlit as st\n",
    "\n",
    "st.title(\"Interactivity Example\")\n",
    "\n",
    "if st.button('Say hello'):\n",
    "    st.write('Hello!')\n",
    "else:\n",
    "    st.write('Goodbye!')\n",
    "```\n",
    "\n",
    "### State Management\n",
    "\n",
    "```python\n",
    "import streamlit as st\n",
    "\n",
    "st.title(\"State Management Example\")\n",
    "\n",
    "if 'count' not in st.session_state:\n",
    "    st.session_state.count = 0\n",
    "\n",
    "increment = st.button('Increment')\n",
    "if increment:\n",
    "    st.session_state.count += 1\n",
    "\n",
    "st.write('Count = ', st.session_state.count)\n",
    "```\n"
   ]
  },
  {
   "cell_type": "markdown",
   "id": "ce6f5848",
   "metadata": {},
   "source": [
    "### You can find the complete documentation of Streamlit by following this link:\n",
    "\n",
    "https://docs.streamlit.io/develop/api-reference"
   ]
  },
  {
   "cell_type": "markdown",
   "id": "ff607eaa",
   "metadata": {},
   "source": [
    "#### We will now take a look at a simple example app using streamlit. \n",
    "#### Before we do so, make sure you have installed streamlit with one of the following commands:\n",
    "\n",
    "\n",
    "!pip install streamlit\n",
    "\n",
    "#### or\n",
    "\n",
    "!conda install streamlit"
   ]
  },
  {
   "cell_type": "markdown",
   "id": "630aa08c",
   "metadata": {},
   "source": [
    "#### Let's take a look at the app! "
   ]
  }
 ],
 "metadata": {
  "kernelspec": {
   "display_name": "Python 3 (ipykernel)",
   "language": "python",
   "name": "python3"
  },
  "language_info": {
   "codemirror_mode": {
    "name": "ipython",
    "version": 3
   },
   "file_extension": ".py",
   "mimetype": "text/x-python",
   "name": "python",
   "nbconvert_exporter": "python",
   "pygments_lexer": "ipython3",
   "version": "3.11.5"
  }
 },
 "nbformat": 4,
 "nbformat_minor": 5
}
