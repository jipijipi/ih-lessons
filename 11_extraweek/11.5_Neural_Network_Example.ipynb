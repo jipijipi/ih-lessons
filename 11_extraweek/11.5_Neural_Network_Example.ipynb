{
 "cells": [
  {
   "cell_type": "markdown",
   "id": "e53f3583",
   "metadata": {},
   "source": [
    "# Step-by-Step Guide to train a Neural Network with PyTorch"
   ]
  },
  {
   "cell_type": "markdown",
   "id": "43e1d962",
   "metadata": {},
   "source": [
    "**In this step by step example, we will train a neural network on the MNIST dataset**\n",
    "<br>\n",
    "<br>\n",
    "**The steps we will perform are:**\n",
    "<br>\n",
    "<br>\n",
    "**1) Load and Prepare the Data**\n",
    "<br>\n",
    "**2) Define and Initialize our Neural Net**\n",
    "<br>\n",
    "**3) Define a Loss Function and an Optimizer**\n",
    "<br>\n",
    "**4) Train the Neural Net**\n",
    "<br>\n",
    "**5) Make predictions for the Test set and assess the accuracy of our Neural Net**"
   ]
  },
  {
   "cell_type": "markdown",
   "id": "e11ab630",
   "metadata": {},
   "source": [
    "## Importing Libraries"
   ]
  },
  {
   "cell_type": "code",
   "execution_count": 1,
   "id": "3c4836d1",
   "metadata": {},
   "outputs": [],
   "source": [
    "import torch\n",
    "import torch.nn as nn\n",
    "import torch.optim as optim\n",
    "import torchvision\n",
    "import torchvision.transforms as transforms\n",
    "import numpy as np\n",
    "import matplotlib.pyplot as plt"
   ]
  },
  {
   "cell_type": "markdown",
   "id": "2df5dbe6",
   "metadata": {},
   "source": [
    "## Loading and Preparing the Data"
   ]
  },
  {
   "cell_type": "code",
   "execution_count": 6,
   "id": "fdd4f13c",
   "metadata": {},
   "outputs": [],
   "source": [
    "# Define a transform to normalize the data\n",
    "transform = transforms.Compose([\n",
    "    transforms.ToTensor(),\n",
    "    transforms.Normalize((0.5,), (0.5,))\n",
    "])\n",
    "\n",
    "# Load the training and test datasets\n",
    "trainset = torchvision.datasets.MNIST(root='./data', train=True, download=True, transform=transform)\n",
    "trainloader = torch.utils.data.DataLoader(trainset, batch_size=64, shuffle=True)\n",
    "\n",
    "testset = torchvision.datasets.MNIST(root='./data', train=False, download=True, transform=transform)\n",
    "testloader = torch.utils.data.DataLoader(testset, batch_size=64, shuffle=False)"
   ]
  },
  {
   "cell_type": "markdown",
   "id": "6acd37f1",
   "metadata": {},
   "source": [
    "## Defining and Initializing the Neural Net"
   ]
  },
  {
   "cell_type": "code",
   "execution_count": 7,
   "id": "5461862d",
   "metadata": {},
   "outputs": [
    {
     "name": "stdout",
     "output_type": "stream",
     "text": [
      "Net(\n",
      "  (fc1): Linear(in_features=784, out_features=128, bias=True)\n",
      "  (fc2): Linear(in_features=128, out_features=64, bias=True)\n",
      "  (fc3): Linear(in_features=64, out_features=10, bias=True)\n",
      "  (relu): ReLU()\n",
      ")\n"
     ]
    }
   ],
   "source": [
    "class Net(nn.Module):\n",
    "    def __init__(self):\n",
    "        super(Net, self).__init__()\n",
    "        self.fc1 = nn.Linear(28 * 28, 128)  # 28x28 input nodes, 128 hidden nodes\n",
    "        self.fc2 = nn.Linear(128, 64)       # 128 hidden nodes, 64 hidden nodes\n",
    "        self.fc3 = nn.Linear(64, 10)        # 64 hidden nodes, 10 output nodes (one for each class)\n",
    "        self.relu = nn.ReLU()\n",
    "\n",
    "    def forward(self, x):\n",
    "        x = x.view(-1, 28 * 28)  # Flatten the input\n",
    "        x = self.relu(self.fc1(x))\n",
    "        x = self.relu(self.fc2(x))\n",
    "        x = self.fc3(x)\n",
    "        return x\n",
    "\n",
    "# Initialize the network\n",
    "net = Net()\n",
    "print(net)"
   ]
  },
  {
   "cell_type": "markdown",
   "id": "bc0c2460",
   "metadata": {},
   "source": [
    "## Defining the Loss Function and Optimizer"
   ]
  },
  {
   "cell_type": "code",
   "execution_count": 8,
   "id": "1a173ff0",
   "metadata": {},
   "outputs": [],
   "source": [
    "criterion = nn.CrossEntropyLoss()\n",
    "optimizer = optim.SGD(net.parameters(), lr=0.01, momentum=0.9)"
   ]
  },
  {
   "cell_type": "markdown",
   "id": "edeae73b",
   "metadata": {},
   "source": [
    "## Training the Neural Network"
   ]
  },
  {
   "cell_type": "code",
   "execution_count": 9,
   "id": "cc5b6abd",
   "metadata": {},
   "outputs": [
    {
     "name": "stdout",
     "output_type": "stream",
     "text": [
      "[Epoch 1, Batch 100] loss: 1.377\n",
      "[Epoch 1, Batch 200] loss: 0.470\n",
      "[Epoch 1, Batch 300] loss: 0.398\n",
      "[Epoch 1, Batch 400] loss: 0.343\n",
      "[Epoch 1, Batch 500] loss: 0.333\n",
      "[Epoch 1, Batch 600] loss: 0.285\n",
      "[Epoch 1, Batch 700] loss: 0.258\n",
      "[Epoch 1, Batch 800] loss: 0.253\n",
      "[Epoch 1, Batch 900] loss: 0.230\n",
      "[Epoch 2, Batch 100] loss: 0.215\n",
      "[Epoch 2, Batch 200] loss: 0.209\n",
      "[Epoch 2, Batch 300] loss: 0.170\n",
      "[Epoch 2, Batch 400] loss: 0.184\n",
      "[Epoch 2, Batch 500] loss: 0.174\n",
      "[Epoch 2, Batch 600] loss: 0.159\n",
      "[Epoch 2, Batch 700] loss: 0.160\n",
      "[Epoch 2, Batch 800] loss: 0.158\n",
      "[Epoch 2, Batch 900] loss: 0.163\n",
      "[Epoch 3, Batch 100] loss: 0.129\n",
      "[Epoch 3, Batch 200] loss: 0.144\n",
      "[Epoch 3, Batch 300] loss: 0.127\n",
      "[Epoch 3, Batch 400] loss: 0.120\n",
      "[Epoch 3, Batch 500] loss: 0.132\n",
      "[Epoch 3, Batch 600] loss: 0.131\n",
      "[Epoch 3, Batch 700] loss: 0.107\n",
      "[Epoch 3, Batch 800] loss: 0.124\n",
      "[Epoch 3, Batch 900] loss: 0.124\n",
      "[Epoch 4, Batch 100] loss: 0.097\n",
      "[Epoch 4, Batch 200] loss: 0.097\n",
      "[Epoch 4, Batch 300] loss: 0.101\n",
      "[Epoch 4, Batch 400] loss: 0.098\n",
      "[Epoch 4, Batch 500] loss: 0.101\n",
      "[Epoch 4, Batch 600] loss: 0.097\n",
      "[Epoch 4, Batch 700] loss: 0.103\n",
      "[Epoch 4, Batch 800] loss: 0.101\n",
      "[Epoch 4, Batch 900] loss: 0.098\n",
      "[Epoch 5, Batch 100] loss: 0.076\n",
      "[Epoch 5, Batch 200] loss: 0.089\n",
      "[Epoch 5, Batch 300] loss: 0.081\n",
      "[Epoch 5, Batch 400] loss: 0.094\n",
      "[Epoch 5, Batch 500] loss: 0.080\n",
      "[Epoch 5, Batch 600] loss: 0.081\n",
      "[Epoch 5, Batch 700] loss: 0.090\n",
      "[Epoch 5, Batch 800] loss: 0.087\n",
      "[Epoch 5, Batch 900] loss: 0.082\n",
      "Finished Training\n"
     ]
    }
   ],
   "source": [
    "num_epochs = 5  # Number of epochs to train the network\n",
    "for epoch in range(num_epochs):\n",
    "    running_loss = 0.0\n",
    "    for i, data in enumerate(trainloader, 0):\n",
    "        inputs, labels = data\n",
    "\n",
    "        # Zero the parameter gradients\n",
    "        optimizer.zero_grad()\n",
    "\n",
    "        # Forward pass\n",
    "        outputs = net(inputs)\n",
    "        loss = criterion(outputs, labels)\n",
    "\n",
    "        # Backward pass and optimize\n",
    "        loss.backward()\n",
    "        optimizer.step()\n",
    "\n",
    "        # Print statistics\n",
    "        running_loss += loss.item()\n",
    "        if i % 100 == 99:    # Print every 100 mini-batches\n",
    "            print(f'[Epoch {epoch + 1}, Batch {i + 1}] loss: {running_loss / 100:.3f}')\n",
    "            running_loss = 0.0\n",
    "\n",
    "print('Finished Training')"
   ]
  },
  {
   "cell_type": "markdown",
   "id": "64ede9b4",
   "metadata": {},
   "source": [
    "## Making predictions on the test set and printing the accuracy of our Neural Net"
   ]
  },
  {
   "cell_type": "code",
   "execution_count": 11,
   "id": "eefa45cb",
   "metadata": {},
   "outputs": [
    {
     "name": "stdout",
     "output_type": "stream",
     "text": [
      "Accuracy of the network on the test images: 97.25%\n"
     ]
    }
   ],
   "source": [
    "correct = 0\n",
    "total = 0\n",
    "with torch.no_grad():\n",
    "    for data in testloader:\n",
    "        images, labels = data\n",
    "        outputs = net(images)\n",
    "        _, predicted = torch.max(outputs.data, 1)\n",
    "        total += labels.size(0)\n",
    "        correct += (predicted == labels).sum().item()\n",
    "\n",
    "print(f'Accuracy of the network on the test images: {100 * correct / total:.2f}%')\n"
   ]
  }
 ],
 "metadata": {
  "kernelspec": {
   "display_name": "Python 3 (ipykernel)",
   "language": "python",
   "name": "python3"
  },
  "language_info": {
   "codemirror_mode": {
    "name": "ipython",
    "version": 3
   },
   "file_extension": ".py",
   "mimetype": "text/x-python",
   "name": "python",
   "nbconvert_exporter": "python",
   "pygments_lexer": "ipython3",
   "version": "3.11.5"
  }
 },
 "nbformat": 4,
 "nbformat_minor": 5
}
